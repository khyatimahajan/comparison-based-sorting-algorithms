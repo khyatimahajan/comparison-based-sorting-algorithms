{
 "cells": [
  {
   "cell_type": "markdown",
   "metadata": {},
   "source": [
    "## Insertion Sort"
   ]
  },
  {
   "cell_type": "code",
   "execution_count": 1,
   "metadata": {},
   "outputs": [],
   "source": [
    "def insertion_sort(array):\n",
    "    n = len(array)\n",
    "    for i in range(1, n):\n",
    "        current = array[i]\n",
    "        j = i-1\n",
    "        while j >= 0 and current < array[j]:\n",
    "            array[j+1] = array[j]\n",
    "            j -= 1\n",
    "        array[j+1] = current\n",
    "    return array"
   ]
  },
  {
   "cell_type": "markdown",
   "metadata": {},
   "source": [
    "## Merge Sort"
   ]
  },
  {
   "cell_type": "code",
   "execution_count": 2,
   "metadata": {},
   "outputs": [],
   "source": [
    "def merge(array, left_side, right_side):\n",
    "    i = 0\n",
    "    j = 0\n",
    "    k = 0\n",
    "    \n",
    "    while i < len(left_side) and j < len(right_side):\n",
    "        if left_side[i] <= right_side[j]:\n",
    "            array[k] = left_side[i]\n",
    "            i += 1\n",
    "        else:\n",
    "            array[k] = right_side[j]\n",
    "            j += 1\n",
    "        k += 1\n",
    "    \n",
    "    while i < len(left_side):\n",
    "        array[k] = left_side[i]\n",
    "        k += 1\n",
    "        i += 1\n",
    "    \n",
    "    while j < len(right_side):\n",
    "        array[k] = right_side[j]\n",
    "        k += 1\n",
    "        j += 1\n",
    "\n",
    "def merge_sort(array):\n",
    "    n = len(array)\n",
    "    if n > 1:\n",
    "        middle = int(n/2)\n",
    "        left_side = array[:middle]\n",
    "        right_side = array[middle:]\n",
    "        \n",
    "        merge_sort(left_side)\n",
    "        merge_sort(right_side)\n",
    "        merge(array, left_side, right_side)\n",
    "    return array"
   ]
  },
  {
   "cell_type": "markdown",
   "metadata": {},
   "source": [
    "## In-place Quicksort"
   ]
  },
  {
   "cell_type": "code",
   "execution_count": 3,
   "metadata": {},
   "outputs": [],
   "source": [
    "def partition(array, first, last):\n",
    "    pivot = array[first]\n",
    "    \n",
    "    left_mark = first + 1\n",
    "    right_mark = last\n",
    "    \n",
    "    done = False\n",
    "    while not done:\n",
    "        \n",
    "        while left_mark <= right_mark and array[left_mark] <= pivot:\n",
    "            left_mark += 1\n",
    "        \n",
    "        while array[right_mark] >= pivot and right_mark >= left_mark:\n",
    "            right_mark -= 1\n",
    "        \n",
    "        if right_mark < left_mark:\n",
    "            done = True\n",
    "        else:\n",
    "            temp = array[left_mark]\n",
    "            array[left_mark] = array[right_mark]\n",
    "            array[right_mark] = temp\n",
    "        \n",
    "    temp = array[first]\n",
    "    array[first] = array[right_mark]\n",
    "    array[right_mark] = temp\n",
    "    return right_mark\n",
    "\n",
    "def quick_sort_util(array, first, last):\n",
    "    if first < last:\n",
    "        split = partition(array, first, last)\n",
    "        quick_sort_util(array, first, split - 1)\n",
    "        quick_sort_util(array, split + 1, last)\n",
    "    return array\n",
    "        \n",
    "def quick_sort(array):\n",
    "    return quick_sort_util(array, 0, len(array)-1)"
   ]
  },
  {
   "cell_type": "markdown",
   "metadata": {},
   "source": [
    "## Modified Quicksort"
   ]
  },
  {
   "cell_type": "code",
   "execution_count": 4,
   "metadata": {},
   "outputs": [],
   "source": [
    "def median(sorted_array):\n",
    "    n = len(sorted_array)\n",
    "    middle = int(n/2)\n",
    "    if n%2 == 0:\n",
    "        return (sorted_array[middle] + sorted_array[middle - 1])/2\n",
    "    else:\n",
    "        return sorted_array[middle]\n",
    "\n",
    "def modified_partition(array, first, last):\n",
    "    first_element = array[first]\n",
    "    last_element = array[last]\n",
    "    n = len(array)\n",
    "    if n%2 == 0:\n",
    "        middle_element_1 = array[int(n/2)]\n",
    "        middle_element_2 = array[int(n/2) - 1]\n",
    "        median_list = [first_element, middle_element_1, middle_element_2, last_element]\n",
    "    else:\n",
    "        middle_element = array[int(n/2)]\n",
    "        median_list = [first_element, middle_element, last_element]\n",
    "    insertion_sort(median_list)\n",
    "    pivot = median(median_list)\n",
    "    \n",
    "    left_mark = first + 1\n",
    "    right_mark = last\n",
    "    \n",
    "    done = False\n",
    "    while not done:\n",
    "        \n",
    "        while left_mark <= right_mark and array[left_mark] <= pivot:\n",
    "            left_mark += 1\n",
    "        \n",
    "        while array[right_mark] >= pivot and right_mark >= left_mark:\n",
    "            right_mark -= 1\n",
    "        \n",
    "        if right_mark < left_mark:\n",
    "            done = True\n",
    "        else:\n",
    "            temp = array[left_mark]\n",
    "            array[left_mark] = array[right_mark]\n",
    "            array[right_mark] = temp\n",
    "        \n",
    "    temp = array[first]\n",
    "    array[first] = array[right_mark]\n",
    "    array[right_mark] = temp\n",
    "    return right_mark\n",
    "\n",
    "def modified_quick_sort_util(array, first, last):\n",
    "    n = len(array)\n",
    "    if n <= 10:\n",
    "        array = insertion_sort(array)\n",
    "    else:\n",
    "        if first < last:\n",
    "            split = partition(array, first, last)\n",
    "            quick_sort_util(array, first, split - 1)\n",
    "            quick_sort_util(array, split + 1, last)\n",
    "    return array\n",
    "        \n",
    "def modified_quick_sort(array):\n",
    "    array = quick_sort_util(array, 0, len(array) - 1)\n",
    "    return array"
   ]
  },
  {
   "cell_type": "markdown",
   "metadata": {},
   "source": [
    "## Testing running time for different input sizes"
   ]
  },
  {
   "cell_type": "code",
   "execution_count": 5,
   "metadata": {},
   "outputs": [],
   "source": [
    "import random\n",
    "import time\n",
    "import matplotlib.pyplot as plt\n",
    "%matplotlib inline\n",
    "plt.rcParams['figure.figsize'] = (15, 8)"
   ]
  },
  {
   "cell_type": "code",
   "execution_count": 6,
   "metadata": {},
   "outputs": [],
   "source": [
    "input_sizes = [500, 1000, 2000, 4000, 5000, 10000, 20000, 30000, 40000, 50000]\n",
    "running_times_is = []\n",
    "running_times_ms = []\n",
    "running_times_qs = []\n",
    "running_times_mqs = []\n",
    "normalized_running_times_is = []\n",
    "normalized_running_times_ms = []\n",
    "normalized_running_times_qs = []\n",
    "normalized_running_times_mqs = []\n",
    "iterations = 2"
   ]
  },
  {
   "cell_type": "code",
   "execution_count": 7,
   "metadata": {},
   "outputs": [],
   "source": [
    "random_input_numbers = random.sample(range(100000), 50000)"
   ]
  },
  {
   "cell_type": "code",
   "execution_count": 8,
   "metadata": {},
   "outputs": [],
   "source": [
    "# Insertion sort\n",
    "for i in range(len(input_sizes)):\n",
    "    time_taken = 0\n",
    "    for j in range(iterations):\n",
    "        start_time = time.time()\n",
    "        result = insertion_sort(random_input_numbers[:input_sizes[i]])\n",
    "        end_time = time.time()\n",
    "        time_taken += end_time - start_time\n",
    "    time_taken /= iterations\n",
    "    normalized_time_taken = time_taken/input_sizes[i]\n",
    "    running_times_is.append(time_taken)\n",
    "    normalized_running_times_is.append(normalized_time_taken)"
   ]
  },
  {
   "cell_type": "code",
   "execution_count": 9,
   "metadata": {},
   "outputs": [],
   "source": [
    "# Merge sort\n",
    "for i in range(len(input_sizes)):\n",
    "    time_taken = 0\n",
    "    for j in range(iterations):\n",
    "        start_time = time.time()\n",
    "        result = merge_sort(random_input_numbers[:input_sizes[i]])\n",
    "        end_time = time.time()\n",
    "        time_taken += end_time - start_time\n",
    "    time_taken /= iterations\n",
    "    normalized_time_taken = time_taken/input_sizes[i]\n",
    "    running_times_ms.append(time_taken)\n",
    "    normalized_running_times_ms.append(normalized_time_taken)"
   ]
  },
  {
   "cell_type": "code",
   "execution_count": 10,
   "metadata": {},
   "outputs": [],
   "source": [
    "# In-place Quick Sort\n",
    "for i in range(len(input_sizes)):\n",
    "    time_taken = 0\n",
    "    for j in range(iterations):\n",
    "        start_time = time.time()\n",
    "        result = quick_sort(random_input_numbers[:input_sizes[i]])\n",
    "        end_time = time.time()\n",
    "        time_taken += end_time - start_time\n",
    "    time_taken /= iterations\n",
    "    normalized_time_taken = time_taken/input_sizes[i]\n",
    "    running_times_qs.append(time_taken)\n",
    "    normalized_running_times_qs.append(normalized_time_taken)"
   ]
  },
  {
   "cell_type": "code",
   "execution_count": 11,
   "metadata": {},
   "outputs": [],
   "source": [
    "# Modified Quicksort\n",
    "for i in range(len(input_sizes)):\n",
    "    time_taken = 0\n",
    "    for j in range(iterations):\n",
    "        start_time = time.time()\n",
    "        result = modified_quick_sort(random_input_numbers[:input_sizes[i]])\n",
    "        end_time = time.time()\n",
    "        time_taken += end_time - start_time\n",
    "    time_taken /= iterations\n",
    "    normalized_time_taken = time_taken/input_sizes[i]\n",
    "    running_times_mqs.append(time_taken)\n",
    "    normalized_running_times_mqs.append(normalized_time_taken)"
   ]
  },
  {
   "cell_type": "code",
   "execution_count": 12,
   "metadata": {},
   "outputs": [
    {
     "name": "stdout",
     "output_type": "stream",
     "text": [
      "500\n",
      "Insertion Sort\t- Runtime: 0.013233423233032227\tAmortized: 2.6466846466064454e-05\n",
      "Merge Sort\t- Runtime: 0.0023015737533569336 \tAmortized: 4.603147506713867e-06\n",
      "Quick Sort\t- Runtime: 0.0013080835342407227 \tAmortized: 2.6161670684814455e-06\n",
      "Modified QS\t- Runtime: 0.0017153024673461914 \tAmortized: 3.4306049346923827e-06\n",
      "\n",
      "1000\n",
      "Insertion Sort\t- Runtime: 0.0555875301361084\tAmortized: 5.55875301361084e-05\n",
      "Merge Sort\t- Runtime: 0.005124449729919434 \tAmortized: 5.124449729919434e-06\n",
      "Quick Sort\t- Runtime: 0.002534627914428711 \tAmortized: 2.534627914428711e-06\n",
      "Modified QS\t- Runtime: 0.0025464296340942383 \tAmortized: 2.5464296340942384e-06\n",
      "\n",
      "2000\n",
      "Insertion Sort\t- Runtime: 0.21097898483276367\tAmortized: 0.00010548949241638183\n",
      "Merge Sort\t- Runtime: 0.011630892753601074 \tAmortized: 5.815446376800537e-06\n",
      "Quick Sort\t- Runtime: 0.005568861961364746 \tAmortized: 2.7844309806823733e-06\n",
      "Modified QS\t- Runtime: 0.0057201385498046875 \tAmortized: 2.860069274902344e-06\n",
      "\n",
      "4000\n",
      "Insertion Sort\t- Runtime: 0.8043015003204346\tAmortized: 0.00020107537508010865\n",
      "Merge Sort\t- Runtime: 0.023544907569885254 \tAmortized: 5.886226892471313e-06\n",
      "Quick Sort\t- Runtime: 0.014520406723022461 \tAmortized: 3.630101680755615e-06\n",
      "Modified QS\t- Runtime: 0.013576030731201172 \tAmortized: 3.394007682800293e-06\n",
      "\n",
      "5000\n",
      "Insertion Sort\t- Runtime: 1.324385643005371\tAmortized: 0.00026487712860107424\n",
      "Merge Sort\t- Runtime: 0.0285494327545166 \tAmortized: 5.709886550903321e-06\n",
      "Quick Sort\t- Runtime: 0.016539335250854492 \tAmortized: 3.3078670501708985e-06\n",
      "Modified QS\t- Runtime: 0.016340136528015137 \tAmortized: 3.2680273056030275e-06\n",
      "\n",
      "10000\n",
      "Insertion Sort\t- Runtime: 5.128039002418518\tAmortized: 0.0005128039002418518\n",
      "Merge Sort\t- Runtime: 0.061353087425231934 \tAmortized: 6.135308742523194e-06\n",
      "Quick Sort\t- Runtime: 0.037124037742614746 \tAmortized: 3.7124037742614746e-06\n",
      "Modified QS\t- Runtime: 0.03253662586212158 \tAmortized: 3.2536625862121583e-06\n",
      "\n",
      "20000\n",
      "Insertion Sort\t- Runtime: 20.326702117919922\tAmortized: 0.0010163351058959961\n",
      "Merge Sort\t- Runtime: 0.13199234008789062 \tAmortized: 6.599617004394532e-06\n",
      "Quick Sort\t- Runtime: 0.08282673358917236 \tAmortized: 4.141336679458618e-06\n",
      "Modified QS\t- Runtime: 0.0709611177444458 \tAmortized: 3.54805588722229e-06\n",
      "\n",
      "30000\n",
      "Insertion Sort\t- Runtime: 47.018527150154114\tAmortized: 0.0015672842383384704\n",
      "Merge Sort\t- Runtime: 0.2038261890411377 \tAmortized: 6.794206301371256e-06\n",
      "Quick Sort\t- Runtime: 0.11749386787414551 \tAmortized: 3.916462262471517e-06\n",
      "Modified QS\t- Runtime: 0.11779904365539551 \tAmortized: 3.926634788513184e-06\n",
      "\n",
      "40000\n",
      "Insertion Sort\t- Runtime: 80.9284440279007\tAmortized: 0.002023211100697517\n",
      "Merge Sort\t- Runtime: 0.2835688591003418 \tAmortized: 7.089221477508545e-06\n",
      "Quick Sort\t- Runtime: 0.15475249290466309 \tAmortized: 3.868812322616577e-06\n",
      "Modified QS\t- Runtime: 0.1568828821182251 \tAmortized: 3.922072052955628e-06\n",
      "\n",
      "50000\n",
      "Insertion Sort\t- Runtime: 128.11746096611023\tAmortized: 0.0025623492193222047\n",
      "Merge Sort\t- Runtime: 0.36226892471313477 \tAmortized: 7.245378494262696e-06\n",
      "Quick Sort\t- Runtime: 0.20506012439727783 \tAmortized: 4.1012024879455565e-06\n",
      "Modified QS\t- Runtime: 0.20386457443237305 \tAmortized: 4.077291488647461e-06\n",
      "\n"
     ]
    }
   ],
   "source": [
    "for i in range(len(input_sizes)):\n",
    "    print(input_sizes[i])\n",
    "    print(\"Insertion Sort\\t- Runtime: \" + str(running_times_is[i]) \\\n",
    "          + \"\\tAmortized: \" + str(normalized_running_times_is[i]))\n",
    "    print(\"Merge Sort\\t- Runtime: \" + str(running_times_ms[i]) \\\n",
    "          + \" \\tAmortized: \" + str(normalized_running_times_ms[i]))\n",
    "    print(\"Quick Sort\\t- Runtime: \" + str(running_times_qs[i]) \\\n",
    "          + \" \\tAmortized: \" + str(normalized_running_times_qs[i]))\n",
    "    print(\"Modified QS\\t- Runtime: \" + str(running_times_mqs[i]) \\\n",
    "          + \" \\tAmortized: \" + str(normalized_running_times_mqs[i]))\n",
    "    print('')"
   ]
  },
  {
   "cell_type": "markdown",
   "metadata": {},
   "source": [
    "## Table for comparing random input runtimes (table made for one sample run result only)"
   ]
  },
  {
   "cell_type": "markdown",
   "metadata": {},
   "source": [
    "### Runtime Analysis for randomized input"
   ]
  },
  {
   "cell_type": "markdown",
   "metadata": {},
   "source": [
    "|Input Size            |500    |1000   |2000   |4000   |5000   |10000  |20000  |30000  |40000  |50000  |\n",
    "|----------------------|-------|-------|-------|-------|-------|-------|-------|-------|-------|-------|\n",
    "|**Insertion Sort**    |0.03143|0.11621|0.48393|1.89506|2.97783|11.6940|47.3874|109.870|193.413|298.020|\n",
    "|**Merge Sort**        |0.00824|0.00984|0.02132|0.04586|0.05868|0.12567|0.26834|0.41693|0.56883|0.72556|\n",
    "|**Quicksort**         |0.00425|0.00631|0.01296|0.02912|0.03713|0.08403|0.17247|0.27279|0.37913|0.48569|\n",
    "|**Modified quicksort**|0.00425|0.00649|0.01294|0.02900|0.03690|0.08396|0.17263|0.27259|0.38061|0.48505|"
   ]
  },
  {
   "cell_type": "markdown",
   "metadata": {},
   "source": [
    "### Amortized Runtime Analysis"
   ]
  },
  {
   "cell_type": "markdown",
   "metadata": {},
   "source": [
    "|Input Size            |500    |1000   |2000   |4000   |5000   |10000  |20000  |30000  |40000  |50000  |\n",
    "|----------------------|-------|-------|-------|-------|-------|-------|-------|-------|-------|-------|\n",
    "|**Insertion Sort**    |6.28e-5|1.16e-4|2.41e-4|4.73e-4|5.95e-4|1.16e-3|2.36e-3|3.66e-3|4.83e-3|5.96e-3|\n",
    "|**Merge Sort**        |1.64e-6|9.84e-6|1.06e-5|1.14e-5|1.17e-5|1.25e-5|1.34e-5|1.38e-6|1.42e-5|1.45e-5|\n",
    "|**Quicksort**         |8.50e-6|6.31e-6|6.48e-6|7.28e-6|7.42e-6|8.40e-6|8.62e-6|9.09e-6|9.47e-6|9.71e-6|\n",
    "|**Modified quicksort**|8.50e-6|6.49e-6|6.47e-6|7.25e-6|7.38e-6|8.39e-6|8.63e-6|9.08e-6|9.51e-6|9.70e-6|"
   ]
  },
  {
   "cell_type": "markdown",
   "metadata": {},
   "source": [
    "### Plot for runtime against input size"
   ]
  },
  {
   "cell_type": "code",
   "execution_count": 13,
   "metadata": {},
   "outputs": [
    {
     "data": {
      "image/png": "[encoded data removed]",
      "text/plain": [
       "<Figure size 432x288 with 1 Axes>"
      ]
     },
     "metadata": {
      "needs_background": "light"
     },
     "output_type": "display_data"
    }
   ],
   "source": [
    "plt.plot(input_sizes, running_times_is, \"r\")\n",
    "plt.plot(input_sizes, running_times_ms, \"b\")\n",
    "plt.plot(input_sizes, running_times_qs, \"g\")\n",
    "plt.plot(input_sizes, running_times_mqs, \"c\")\n",
    "plt.yscale('log')\n",
    "plt.title(\"Running time comparison plot (randomized input)\")\n",
    "plt.xlabel(\"Input Size\")\n",
    "plt.ylabel(\"Running Time (log scale)\")\n",
    "plt.legend([\"Insertion sort\", \"Merge sort\", \"Quick sort\", \"Modified Quick sort\"])\n",
    "plt.show()"
   ]
  },
  {
   "cell_type": "code",
   "execution_count": 14,
   "metadata": {},
   "outputs": [
    {
     "data": {
      "image/png": "[encoded data removed]",
      "text/plain": [
       "<Figure size 432x288 with 1 Axes>"
      ]
     },
     "metadata": {
      "needs_background": "light"
     },
     "output_type": "display_data"
    }
   ],
   "source": [
    "plt.plot(input_sizes, normalized_running_times_is, \"r\")\n",
    "plt.plot(input_sizes, normalized_running_times_ms, \"b\")\n",
    "plt.plot(input_sizes, normalized_running_times_qs, \"g\")\n",
    "plt.plot(input_sizes, normalized_running_times_mqs, \"c\")\n",
    "plt.yscale('log')\n",
    "plt.title(\"Amortized running time comparison plot (Randomized input)\")\n",
    "plt.xlabel(\"Input Size\")\n",
    "plt.ylabel(\"Running Time (log scale)\")\n",
    "plt.legend([\"Insertion sort\", \"Merge sort\", \"Quick sort\", \"Modified Quick sort\"])\n",
    "plt.show()"
   ]
  },
  {
   "cell_type": "markdown",
   "metadata": {},
   "source": [
    "## Testing Running time for special cases"
   ]
  },
  {
   "cell_type": "code",
   "execution_count": 15,
   "metadata": {},
   "outputs": [],
   "source": [
    "sorted_input = []\n",
    "reverse_sorted_input = []\n",
    "for i in range(1, 501):\n",
    "    sorted_input.append(i)\n",
    "    reverse_sorted_input.append(501-i)\n",
    "input_sizes = [100, 200, 300, 400, 500]\n",
    "running_time_sorted_is = []\n",
    "running_time_sorted_ms = []\n",
    "running_time_sorted_qs = []\n",
    "running_time_sorted_mqs = []\n",
    "running_time_reverse_sorted_is = []\n",
    "running_time_reverse_sorted_ms = []\n",
    "running_time_reverse_sorted_qs = []\n",
    "running_time_reverse_sorted_mqs = []\n",
    "normalized_running_time_sorted_is = []\n",
    "normalized_running_time_sorted_ms = []\n",
    "normalized_running_time_sorted_qs = []\n",
    "normalized_running_time_sorted_mqs = []\n",
    "normalized_running_time_reverse_sorted_is = []\n",
    "normalized_running_time_reverse_sorted_ms = []\n",
    "normalized_running_time_reverse_sorted_qs = []\n",
    "normalized_running_time_reverse_sorted_mqs = []"
   ]
  },
  {
   "cell_type": "markdown",
   "metadata": {},
   "source": [
    "### Testing for already sorted input"
   ]
  },
  {
   "cell_type": "code",
   "execution_count": 16,
   "metadata": {},
   "outputs": [],
   "source": [
    "# Insertion sort\n",
    "for i in range(len(input_sizes)):\n",
    "    time_taken = 0\n",
    "    start_time = time.time()\n",
    "    result = insertion_sort(sorted_input[:input_sizes[i]])\n",
    "    end_time = time.time()\n",
    "    time_taken += end_time - start_time\n",
    "    normalized_time_taken = time_taken/input_sizes[i]\n",
    "    running_time_sorted_is.append(time_taken)\n",
    "    normalized_running_time_sorted_is.append(normalized_time_taken)"
   ]
  },
  {
   "cell_type": "code",
   "execution_count": 17,
   "metadata": {},
   "outputs": [],
   "source": [
    "# Merge sort\n",
    "for i in range(len(input_sizes)):\n",
    "    time_taken = 0\n",
    "    start_time = time.time()\n",
    "    result = merge_sort(sorted_input[:input_sizes[i]])\n",
    "    end_time = time.time()\n",
    "    time_taken += end_time - start_time\n",
    "    normalized_time_taken = time_taken/input_sizes[i]\n",
    "    running_time_sorted_ms.append(time_taken)\n",
    "    normalized_running_time_sorted_ms.append(normalized_time_taken)"
   ]
  },
  {
   "cell_type": "code",
   "execution_count": 18,
   "metadata": {},
   "outputs": [],
   "source": [
    "# In-place Quick Sort\n",
    "for i in range(len(input_sizes)):\n",
    "    time_taken = 0\n",
    "    start_time = time.time()\n",
    "    result = quick_sort(sorted_input[:input_sizes[i]])\n",
    "    end_time = time.time()\n",
    "    time_taken += end_time - start_time\n",
    "    normalized_time_taken = time_taken/input_sizes[i]\n",
    "    running_time_sorted_qs.append(time_taken)\n",
    "    normalized_running_time_sorted_qs.append(normalized_time_taken)"
   ]
  },
  {
   "cell_type": "code",
   "execution_count": 19,
   "metadata": {},
   "outputs": [],
   "source": [
    "# Modified Quicksort\n",
    "for i in range(len(input_sizes)):\n",
    "    time_taken = 0\n",
    "    start_time = time.time()\n",
    "    result = modified_quick_sort(sorted_input[:input_sizes[i]])\n",
    "    end_time = time.time()\n",
    "    time_taken += end_time - start_time\n",
    "    normalized_time_taken = time_taken/input_sizes[i]\n",
    "    running_time_sorted_mqs.append(time_taken)\n",
    "    normalized_running_time_sorted_mqs.append(normalized_time_taken)"
   ]
  },
  {
   "cell_type": "markdown",
   "metadata": {},
   "source": [
    "### Testing for reverse sorted input"
   ]
  },
  {
   "cell_type": "code",
   "execution_count": 20,
   "metadata": {},
   "outputs": [],
   "source": [
    "# Insertion sort\n",
    "for i in range(len(input_sizes)):\n",
    "    time_taken = 0\n",
    "    start_time = time.time()\n",
    "    result = insertion_sort(reverse_sorted_input[:input_sizes[i]])\n",
    "    end_time = time.time()\n",
    "    time_taken += end_time - start_time\n",
    "    normalized_time_taken = time_taken/input_sizes[i]\n",
    "    running_time_reverse_sorted_is.append(time_taken)\n",
    "    normalized_running_time_reverse_sorted_is.append(normalized_time_taken)"
   ]
  },
  {
   "cell_type": "code",
   "execution_count": 21,
   "metadata": {},
   "outputs": [],
   "source": [
    "# Merge sort\n",
    "for i in range(len(input_sizes)):\n",
    "    time_taken = 0\n",
    "    start_time = time.time()\n",
    "    result = merge_sort(reverse_sorted_input[:input_sizes[i]])\n",
    "    end_time = time.time()\n",
    "    time_taken += end_time - start_time\n",
    "    normalized_time_taken = time_taken/input_sizes[i]\n",
    "    running_time_reverse_sorted_ms.append(time_taken)\n",
    "    normalized_running_time_reverse_sorted_ms.append(normalized_time_taken)"
   ]
  },
  {
   "cell_type": "code",
   "execution_count": 22,
   "metadata": {},
   "outputs": [],
   "source": [
    "# Quick sort\n",
    "for i in range(len(input_sizes)):\n",
    "    time_taken = 0\n",
    "    start_time = time.time()\n",
    "    result = quick_sort(reverse_sorted_input[:input_sizes[i]])\n",
    "    end_time = time.time()\n",
    "    time_taken += end_time - start_time\n",
    "    normalized_time_taken = time_taken/input_sizes[i]\n",
    "    running_time_reverse_sorted_qs.append(time_taken)\n",
    "    normalized_running_time_reverse_sorted_qs.append(normalized_time_taken)"
   ]
  },
  {
   "cell_type": "code",
   "execution_count": 23,
   "metadata": {},
   "outputs": [],
   "source": [
    "# Modified Quick sort\n",
    "for i in range(len(input_sizes)):\n",
    "    time_taken = 0\n",
    "    start_time = time.time()\n",
    "    result = modified_quick_sort(reverse_sorted_input[:input_sizes[i]])\n",
    "    end_time = time.time()\n",
    "    time_taken += end_time - start_time\n",
    "    normalized_time_taken = time_taken/input_sizes[i]\n",
    "    running_time_reverse_sorted_mqs.append(time_taken)\n",
    "    normalized_running_time_reverse_sorted_mqs.append(normalized_time_taken)"
   ]
  },
  {
   "cell_type": "markdown",
   "metadata": {},
   "source": [
    "# Comparing runtimes for special cases"
   ]
  },
  {
   "cell_type": "markdown",
   "metadata": {},
   "source": [
    "## Comparing for sorted input runtime"
   ]
  },
  {
   "cell_type": "code",
   "execution_count": 24,
   "metadata": {},
   "outputs": [
    {
     "name": "stdout",
     "output_type": "stream",
     "text": [
      "100\n",
      "Insertion Sort\t- Runtime: 0.000431060791015625\tAmortized: 4.31060791015625e-06\n",
      "Merge Sort\t- Runtime: 0.0003151893615722656\tAmortized: 3.1518936157226564e-06\n",
      "Quick Sort\t- Runtime: 0.0011980533599853516\tAmortized: 1.1980533599853516e-05\n",
      "Modified QS\t- Runtime: 0.0006239414215087891\tAmortized: 6.239414215087891e-06\n",
      "\n",
      "200\n",
      "Insertion Sort\t- Runtime: 8.392333984375e-05\tAmortized: 4.1961669921875e-07\n",
      "Merge Sort\t- Runtime: 0.0008571147918701172\tAmortized: 4.285573959350586e-06\n",
      "Quick Sort\t- Runtime: 0.0069081783294677734\tAmortized: 3.454089164733887e-05\n",
      "Modified QS\t- Runtime: 0.0026128292083740234\tAmortized: 1.3064146041870118e-05\n",
      "\n",
      "300\n",
      "Insertion Sort\t- Runtime: 0.00013494491577148438\tAmortized: 4.4981638590494793e-07\n",
      "Merge Sort\t- Runtime: 0.0012140274047851562\tAmortized: 4.046758015950521e-06\n",
      "Quick Sort\t- Runtime: 0.011244058609008789\tAmortized: 3.7480195363362634e-05\n",
      "Modified QS\t- Runtime: 0.0055789947509765625\tAmortized: 1.8596649169921875e-05\n",
      "\n",
      "400\n",
      "Insertion Sort\t- Runtime: 0.00010275840759277344\tAmortized: 2.5689601898193357e-07\n",
      "Merge Sort\t- Runtime: 0.0014219284057617188\tAmortized: 3.554821014404297e-06\n",
      "Quick Sort\t- Runtime: 0.012729167938232422\tAmortized: 3.182291984558105e-05\n",
      "Modified QS\t- Runtime: 0.009855031967163086\tAmortized: 2.4637579917907716e-05\n",
      "\n",
      "500\n",
      "Insertion Sort\t- Runtime: 0.00012993812561035156\tAmortized: 2.5987625122070314e-07\n",
      "Merge Sort\t- Runtime: 0.002000093460083008\tAmortized: 4.000186920166015e-06\n",
      "Quick Sort\t- Runtime: 0.017489910125732422\tAmortized: 3.4979820251464846e-05\n",
      "Modified QS\t- Runtime: 0.015661954879760742\tAmortized: 3.1323909759521486e-05\n",
      "\n"
     ]
    }
   ],
   "source": [
    "for i in range(len(input_sizes)):\n",
    "    print(input_sizes[i])\n",
    "    print(\"Insertion Sort\\t- Runtime: \" + str(running_time_sorted_is[i]) \\\n",
    "          + \"\\tAmortized: \" + str(normalized_running_time_sorted_is[i]))\n",
    "    print(\"Merge Sort\\t- Runtime: \" + str(running_time_sorted_ms[i]) \\\n",
    "          + \"\\tAmortized: \" + str(normalized_running_time_sorted_ms[i]))\n",
    "    print(\"Quick Sort\\t- Runtime: \" + str(running_time_sorted_qs[i]) \\\n",
    "          + \"\\tAmortized: \" + str(normalized_running_time_sorted_qs[i]))\n",
    "    print(\"Modified QS\\t- Runtime: \" + str(running_time_sorted_mqs[i]) \\\n",
    "          + \"\\tAmortized: \" + str(normalized_running_time_sorted_mqs[i]))\n",
    "    print('')"
   ]
  },
  {
   "cell_type": "markdown",
   "metadata": {},
   "source": [
    "## Table for comparing sorted input runtimes (table made for one sample run result only)"
   ]
  },
  {
   "cell_type": "markdown",
   "metadata": {},
   "source": [
    "### Runtime Analysis for sorted input"
   ]
  },
  {
   "cell_type": "markdown",
   "metadata": {},
   "source": [
    "|Input Size            |100     |200     |300     |400     |500     |\n",
    "|----------------------|--------|--------|--------|--------|--------|\n",
    "|**Insertion Sort**    |0.000132|0.000108|0.000204|0.000307|0.000406|\n",
    "|**Merge Sort**        |0.001228|0.002965|0.004786|0.005957|0.004210|\n",
    "|**Quicksort**         |0.002886|0.010667|0.023244|0.027021|0.037875|\n",
    "|**Modified quicksort**|0.002860|0.011158|0.016796|0.024836|0.037711|"
   ]
  },
  {
   "cell_type": "markdown",
   "metadata": {},
   "source": [
    "### Amortized Runtime Analysis"
   ]
  },
  {
   "cell_type": "markdown",
   "metadata": {},
   "source": [
    "|Input Size            |100     |200     |300     |400     |500     |\n",
    "|----------------------|--------|--------|--------|--------|--------|\n",
    "|**Insertion Sort**    |1.080e-6|1.024e-6|1.023e-6|1.017e-6|1.274e-6|\n",
    "|**Merge Sort**        |1.228e-5|1.228e-5|1.595e-5|1.489e-5|8.421e-6|\n",
    "|**Quicksort**         |2.886e-5|5.333e-5|7.748e-5|6.755e-5|7.575e-5|\n",
    "|**Modified quicksort**|2.860e-5|5.579e-5|5.598e-5|6.209e-5|7.542e-5|"
   ]
  },
  {
   "cell_type": "markdown",
   "metadata": {},
   "source": [
    "### Plot for runtime analysis"
   ]
  },
  {
   "cell_type": "code",
   "execution_count": 25,
   "metadata": {},
   "outputs": [
    {
     "data": {
      "image/png": "[encoded data removed]",
      "text/plain": [
       "<Figure size 432x288 with 1 Axes>"
      ]
     },
     "metadata": {
      "needs_background": "light"
     },
     "output_type": "display_data"
    }
   ],
   "source": [
    "plt.plot(input_sizes, running_time_sorted_is, \"r\")\n",
    "plt.plot(input_sizes, running_time_sorted_ms, \"b\")\n",
    "plt.plot(input_sizes, running_time_sorted_qs, \"g\")\n",
    "plt.plot(input_sizes, running_time_sorted_mqs, \"c\")\n",
    "plt.yscale('log')\n",
    "plt.title(\"Running time comparison plot\")\n",
    "plt.xlabel(\"Input Size\")\n",
    "plt.ylabel(\"Running Time (log scale)\")\n",
    "plt.legend([\"Insertion sort\", \"Merge sort\", \"Quick sort\", \"Modified Quick sort\"])\n",
    "plt.show()"
   ]
  },
  {
   "cell_type": "code",
   "execution_count": 26,
   "metadata": {},
   "outputs": [
    {
     "data": {
      "image/png": "[encoded data removed]",
      "text/plain": [
       "<Figure size 432x288 with 1 Axes>"
      ]
     },
     "metadata": {
      "needs_background": "light"
     },
     "output_type": "display_data"
    }
   ],
   "source": [
    "plt.plot(input_sizes, normalized_running_time_sorted_is, \"r\")\n",
    "plt.plot(input_sizes, normalized_running_time_sorted_ms, \"b\")\n",
    "plt.plot(input_sizes, normalized_running_time_sorted_qs, \"g\")\n",
    "plt.plot(input_sizes, normalized_running_time_sorted_mqs, \"c\")\n",
    "plt.yscale('log')\n",
    "plt.title(\"Amortized running time comparison plot (Sorted input)\")\n",
    "plt.xlabel(\"Input Size\")\n",
    "plt.ylabel(\"Running Time (log scale)\")\n",
    "plt.legend([\"Insertion sort\", \"Merge sort\", \"Quick sort\", \"Modified Quick sort\"])\n",
    "plt.show()"
   ]
  },
  {
   "cell_type": "markdown",
   "metadata": {},
   "source": [
    "## Comparing for reverse sorted input runtime"
   ]
  },
  {
   "cell_type": "code",
   "execution_count": 27,
   "metadata": {},
   "outputs": [
    {
     "name": "stdout",
     "output_type": "stream",
     "text": [
      "100\n",
      "Insertion Sort\t- Runtime: 0.0008640289306640625\tAmortized: 8.640289306640625e-06\n",
      "Merge Sort\t- Runtime: 0.00032210350036621094\tAmortized: 3.2210350036621093e-06\n",
      "Quick Sort\t- Runtime: 0.00063323974609375\tAmortized: 6.3323974609375e-06\n",
      "Modified QS\t- Runtime: 0.0006127357482910156\tAmortized: 6.127357482910156e-06\n",
      "\n",
      "200\n",
      "Insertion Sort\t- Runtime: 0.0036377906799316406\tAmortized: 1.8188953399658205e-05\n",
      "Merge Sort\t- Runtime: 0.0006718635559082031\tAmortized: 3.3593177795410156e-06\n",
      "Quick Sort\t- Runtime: 0.003401041030883789\tAmortized: 1.7005205154418946e-05\n",
      "Modified QS\t- Runtime: 0.002396821975708008\tAmortized: 1.198410987854004e-05\n",
      "\n",
      "300\n",
      "Insertion Sort\t- Runtime: 0.008474111557006836\tAmortized: 2.824703852335612e-05\n",
      "Merge Sort\t- Runtime: 0.0011789798736572266\tAmortized: 3.9299329121907554e-06\n",
      "Quick Sort\t- Runtime: 0.006345987319946289\tAmortized: 2.115329106648763e-05\n",
      "Modified QS\t- Runtime: 0.005394935607910156\tAmortized: 1.7983118693033853e-05\n",
      "\n",
      "400\n",
      "Insertion Sort\t- Runtime: 0.016730785369873047\tAmortized: 4.182696342468262e-05\n",
      "Merge Sort\t- Runtime: 0.001592874526977539\tAmortized: 3.982186317443848e-06\n",
      "Quick Sort\t- Runtime: 0.010284185409545898\tAmortized: 2.5710463523864747e-05\n",
      "Modified QS\t- Runtime: 0.009160041809082031\tAmortized: 2.2900104522705077e-05\n",
      "\n",
      "500\n",
      "Insertion Sort\t- Runtime: 0.02310776710510254\tAmortized: 4.621553421020508e-05\n",
      "Merge Sort\t- Runtime: 0.0019278526306152344\tAmortized: 3.855705261230469e-06\n",
      "Quick Sort\t- Runtime: 0.015098810195922852\tAmortized: 3.0197620391845703e-05\n",
      "Modified QS\t- Runtime: 0.014673948287963867\tAmortized: 2.9347896575927733e-05\n",
      "\n"
     ]
    }
   ],
   "source": [
    "for i in range(len(input_sizes)):\n",
    "    print(input_sizes[i])\n",
    "    print(\"Insertion Sort\\t- Runtime: \" + str(running_time_reverse_sorted_is[i]) \\\n",
    "          + \"\\tAmortized: \" + str(normalized_running_time_reverse_sorted_is[i]))\n",
    "    print(\"Merge Sort\\t- Runtime: \" + str(running_time_reverse_sorted_ms[i]) \\\n",
    "          + \"\\tAmortized: \" + str(normalized_running_time_reverse_sorted_ms[i]))\n",
    "    print(\"Quick Sort\\t- Runtime: \" + str(running_time_reverse_sorted_qs[i]) \\\n",
    "          + \"\\tAmortized: \" + str(normalized_running_time_reverse_sorted_qs[i]))\n",
    "    print(\"Modified QS\\t- Runtime: \" + str(running_time_reverse_sorted_mqs[i]) \\\n",
    "          + \"\\tAmortized: \" + str(normalized_running_time_reverse_sorted_mqs[i]))\n",
    "    print('')"
   ]
  },
  {
   "cell_type": "markdown",
   "metadata": {},
   "source": [
    "## Table for comparing reverse sorted input runtimes (table made for one sample run result only)"
   ]
  },
  {
   "cell_type": "markdown",
   "metadata": {},
   "source": [
    "### Runtime Analysis for reverse sorted input"
   ]
  },
  {
   "cell_type": "markdown",
   "metadata": {},
   "source": [
    "|Input Size            |100     |200     |300     |400     |500     |\n",
    "|----------------------|--------|--------|--------|--------|--------|\n",
    "|**Insertion Sort**    |0.005059|0.013921|0.024141|0.044173|0.059211|\n",
    "|**Merge Sort**        |0.001205|0.002897|0.005258|0.006546|0.005431|\n",
    "|**Quicksort**         |0.003201|0.010826|0.014683|0.031641|0.040731|\n",
    "|**Modified quicksort**|0.003212|0.011523|0.019056|0.024992|0.039253|"
   ]
  },
  {
   "cell_type": "markdown",
   "metadata": {},
   "source": [
    "### Amortized Runtime Analysis"
   ]
  },
  {
   "cell_type": "markdown",
   "metadata": {},
   "source": [
    "|Input Size            |100     |200     |300     |400     |500     |\n",
    "|----------------------|--------|--------|--------|--------|--------|\n",
    "|**Insertion Sort**    |5.059e-5|6.960e-5|8.047e-5|1.104e-4|1.184e-4|\n",
    "|**Merge Sort**        |1.205e-5|1.448e-5|1.752e-5|1.636e-5|1.086e-5|\n",
    "|**Quicksort**         |3.201e-5|5.413e-5|4.894e-5|7.910e-5|8.146e-5|\n",
    "|**Modified quicksort**|3.006e-5|5.439e-5|6.486e-5|6.218e-5|7.515e-5|"
   ]
  },
  {
   "cell_type": "markdown",
   "metadata": {},
   "source": [
    "### Plot for comparing runtime"
   ]
  },
  {
   "cell_type": "code",
   "execution_count": 28,
   "metadata": {},
   "outputs": [
    {
     "data": {
      "image/png": "[encoded data removed]",
      "text/plain": [
       "<Figure size 432x288 with 1 Axes>"
      ]
     },
     "metadata": {
      "needs_background": "light"
     },
     "output_type": "display_data"
    }
   ],
   "source": [
    "plt.plot(input_sizes, running_time_reverse_sorted_is, \"r\")\n",
    "plt.plot(input_sizes, running_time_reverse_sorted_ms, \"b\")\n",
    "plt.plot(input_sizes, running_time_reverse_sorted_qs, \"g\")\n",
    "plt.plot(input_sizes, running_time_reverse_sorted_mqs, \"c\")\n",
    "plt.yscale('log')\n",
    "plt.title(\"Running time comparison plot\")\n",
    "plt.xlabel(\"Input Size\")\n",
    "plt.ylabel(\"Running Time (log scale)\")\n",
    "plt.legend([\"Insertion sort\", \"Merge sort\", \"Quick sort\", \"Modified Quick sort\"])\n",
    "plt.show()"
   ]
  },
  {
   "cell_type": "code",
   "execution_count": 29,
   "metadata": {},
   "outputs": [
    {
     "data": {
      "image/png": "[encoded data removed]",
      "text/plain": [
       "<Figure size 432x288 with 1 Axes>"
      ]
     },
     "metadata": {
      "needs_background": "light"
     },
     "output_type": "display_data"
    }
   ],
   "source": [
    "plt.plot(input_sizes, normalized_running_time_reverse_sorted_is, \"r\")\n",
    "plt.plot(input_sizes, normalized_running_time_reverse_sorted_ms, \"b\")\n",
    "plt.plot(input_sizes, normalized_running_time_reverse_sorted_qs, \"g\")\n",
    "plt.plot(input_sizes, normalized_running_time_reverse_sorted_mqs, \"c\")\n",
    "plt.yscale('log')\n",
    "plt.title(\"Amortized running time comparison plot (Sorted input)\")\n",
    "plt.xlabel(\"Input Size\")\n",
    "plt.ylabel(\"Running Time (log scale)\")\n",
    "plt.legend([\"Insertion sort\", \"Merge sort\", \"Quick sort\", \"Modified Quick sort\"])\n",
    "plt.show()"
   ]
  },
  {
   "cell_type": "code",
   "execution_count": null,
   "metadata": {},
   "outputs": [],
   "source": []
  }
 ],
 "metadata": {
  "kernelspec": {
   "display_name": "Python 3",
   "language": "python",
   "name": "python3"
  },
  "language_info": {
   "codemirror_mode": {
    "name": "ipython",
    "version": 3
   },
   "file_extension": ".py",
   "mimetype": "text/x-python",
   "name": "python",
   "nbconvert_exporter": "python",
   "pygments_lexer": "ipython3",
   "version": "3.7.1"
  }
 },
 "nbformat": 4,
 "nbformat_minor": 2
}
